{
 "cells": [
  {
   "cell_type": "code",
   "execution_count": 6,
   "id": "904c74c2-a1e6-4d09-bd2e-f5ec0aef40a6",
   "metadata": {},
   "outputs": [
    {
     "name": "stdout",
     "output_type": "stream",
     "text": [
      "[1]\n"
     ]
    }
   ],
   "source": [
    "# 1. \n",
    "def get_position_indices(triplet, dna):  \n",
    "    \"\"\"\n",
    "    This function finds the position of a triplet code within a DNA sequence\n",
    "\n",
    "    Parameters: \n",
    "    triplet (str): 3-code sequence\n",
    "    DNA (str): The DNA sequence\n",
    "\n",
    "    Returns:\n",
    "    list: A list containing the index position where the triplet occurs in the DNA sequences\n",
    "    \n",
    "    \"\"\"\n",
    "    # Create an empty list to store the resulting position/index list\n",
    "    position_list = []  \n",
    "    # Split the DNA sequence into 3-letter codes\n",
    "    triplet_list = [dna[i:i+3] for i in range(0, len(dna), 3)]  \n",
    "    # For loop to iterate through the DNA sequence\n",
    "    for x in range(0, len(triplet_list), 1):      \n",
    "        # If statement to check for the presence of the query triplet\n",
    "        if triplet == triplet_list[x]:            \n",
    "            # append the list position of the triplet if it is present\n",
    "            position_list.append(x) \n",
    "    # return the output        \n",
    "    return position_list\n",
    "\n",
    "get_p = get_position_indices ('GAA', 'CCGGAAGAGCTTACTTAG')\n",
    "print (get_p)"
   ]
  },
  {
   "cell_type": "code",
   "execution_count": 14,
   "id": "20dda59b-072d-4130-8b31-fb3c1545c0a7",
   "metadata": {},
   "outputs": [
    {
     "name": "stdout",
     "output_type": "stream",
     "text": [
      "Line 8: inhabitants of that continent. These facts, as will be seen in the\n",
      "Line 22: My work is now (1859) nearly finished; but as it will take me many more\n",
      "Line 41: illustration, but which, I hope, in most cases will suffice. No one can\n",
      "Line 98: in accumulating by his selection successive slight variations. I will\n",
      "Line 106: will be considered. This is the doctrine of Malthus, applied to the\n",
      "Line 111: under the complex and sometimes varying conditions of life, will have\n",
      "Line 113: the strong principle of inheritance, any selected variety will tend to\n",
      "Line 116: This fundamental subject of natural selection will be treated at\n",
      "Line 122: gravest difficulties in accepting the theory will be given: namely,\n",
      "Line 146: much remains obscure, and will long remain obscure, I can entertain no\n"
     ]
    }
   ],
   "source": [
    "# 2.\n",
    "\n",
    "# The phrase to search for\n",
    "phrase = \"will\"\n",
    "\n",
    "# The file to search in\n",
    "filename = \"Downloads/conclusions.txt\"\n",
    "\n",
    "try:\n",
    "    # Open the file\n",
    "    with open(filename, 'r') as grep_file:  \n",
    "        # For loop to iterate though the file, line by line, telling it to start at line 1, since there is no line 0\n",
    "        for line_number, line in enumerate(grep_file, start=1): \n",
    "            # If statement to check if the query phrase is present in a line\n",
    "            if phrase in line: \n",
    "                # Print the matching line with its number\n",
    "                print(f\"Line {line_number}: {line.strip()}\")  \n",
    "# If file does not exist: specific exception handler code\n",
    "except FileNotFoundError:\n",
    "    print(f\"The file '{filename}' does not exist.\")\n",
    "# General exception handler code\n",
    "except Exception as e:\n",
    "    print(f\"An error occurred: {e}\")"
   ]
  },
  {
   "cell_type": "code",
   "execution_count": 2,
   "id": "2262d5fc-6af1-4acf-8856-2e6421ee1f54",
   "metadata": {},
   "outputs": [
    {
     "name": "stdout",
     "output_type": "stream",
     "text": [
      "Line 8: inhabitants of that continent. These facts, as will be seen in the\n",
      "Line 22: My work is now (1859) nearly finished; but as it will take me many more\n",
      "Line 41: illustration, but which, I hope, in most cases will suffice. No one can\n",
      "Line 98: in accumulating by his selection successive slight variations. I will\n",
      "Line 106: will be considered. This is the doctrine of Malthus, applied to the\n",
      "Line 111: under the complex and sometimes varying conditions of life, will have\n",
      "Line 113: the strong principle of inheritance, any selected variety will tend to\n",
      "Line 116: This fundamental subject of natural selection will be treated at\n",
      "Line 122: gravest difficulties in accepting the theory will be given: namely,\n",
      "Line 146: much remains obscure, and will long remain obscure, I can entertain no\n"
     ]
    },
    {
     "data": {
      "text/plain": [
       "['inhabitants of that continent. These facts, as will be seen in the',\n",
       " 'My work is now (1859) nearly finished; but as it will take me many more',\n",
       " 'illustration, but which, I hope, in most cases will suffice. No one can',\n",
       " 'in accumulating by his selection successive slight variations. I will',\n",
       " 'will be considered. This is the doctrine of Malthus, applied to the',\n",
       " 'under the complex and sometimes varying conditions of life, will have',\n",
       " 'the strong principle of inheritance, any selected variety will tend to',\n",
       " 'This fundamental subject of natural selection will be treated at',\n",
       " 'gravest difficulties in accepting the theory will be given: namely,',\n",
       " 'much remains obscure, and will long remain obscure, I can entertain no']"
      ]
     },
     "execution_count": 2,
     "metadata": {},
     "output_type": "execute_result"
    }
   ],
   "source": [
    "# 3.\n",
    "def grep_python_cmd(phrase, filename):\n",
    "    \"\"\"\n",
    "    Performs the same function as the UNIX grep command.\n",
    "\n",
    "    Parameters:\n",
    "    phrase (str): The phrase to search for.\n",
    "    filename (str): The filename (file path) to search in or iterate through.\n",
    "\n",
    "    Return\n",
    "    A list containing the lines where the phrase occurs\n",
    "    \"\"\"\n",
    "    # create an empty list to store each line where the hit occurs\n",
    "    hits = []\n",
    "    try:\n",
    "        # Open the file\n",
    "        with open(filename, 'r') as grepfile:  \n",
    "            # For loop to iterate through the file\n",
    "            for line_number, line in enumerate(grepfile, start=1): \n",
    "                # If statement to check if the query phrase is present in a line\n",
    "                if phrase in line: \n",
    "                    # Print the matching line with its number\n",
    "                    print(f\"Line {line_number}: {line.strip()}\")  \n",
    "                    hits.append(line.strip())  # Store the matching line in hits\n",
    "    # If file does not exist: specific exception handler code\n",
    "    except FileNotFoundError:\n",
    "        print(f\"The file '{filename}' does not exist.\")\n",
    "    # General exception handler code\n",
    "    except Exception as e:\n",
    "        print(f\"An error occurred: {e}\")\n",
    "    \n",
    "    return hits \n",
    "\n",
    "# The file to search in\n",
    "file_name = \"Downloads/conclusions.txt\"\n",
    "\n",
    "# Example\n",
    "grep_python_cmd(\"will\", file_name)"
   ]
  },
  {
   "cell_type": "code",
   "execution_count": 132,
   "id": "6fc6ed04-eeee-4a0d-9ff0-006cd05c94dd",
   "metadata": {},
   "outputs": [
    {
     "name": "stdout",
     "output_type": "stream",
     "text": [
      "Line 8: inhabitants of that continent. These facts, as will be seen in the\n",
      "Line 22: My work is now (1859) nearly finished; but as it will take me many more\n",
      "Line 41: illustration, but which, I hope, in most cases will suffice. No one can\n",
      "Line 98: in accumulating by his selection successive slight variations. I will\n",
      "Line 106: will be considered. This is the doctrine of Malthus, applied to the\n",
      "Line 111: under the complex and sometimes varying conditions of life, will have\n",
      "Line 113: the strong principle of inheritance, any selected variety will tend to\n",
      "Line 116: This fundamental subject of natural selection will be treated at\n",
      "Line 122: gravest difficulties in accepting the theory will be given: namely,\n",
      "Line 146: much remains obscure, and will long remain obscure, I can entertain no\n"
     ]
    },
    {
     "ename": "SyntaxError",
     "evalue": "'return' outside function (1389242540.py, line 27)",
     "output_type": "error",
     "traceback": [
      "\u001b[1;36m  Cell \u001b[1;32mIn[132], line 27\u001b[1;36m\u001b[0m\n\u001b[1;33m    return hits\u001b[0m\n\u001b[1;37m    ^\u001b[0m\n\u001b[1;31mSyntaxError\u001b[0m\u001b[1;31m:\u001b[0m 'return' outside function\n"
     ]
    }
   ],
   "source": [
    "## 3.\n",
    "\n",
    "def grep_python_cmd (phrase, filename):\n",
    "    \"\"\"\n",
    "    Performs the same function as the UNIX grep command.\n",
    "\n",
    "    Parameters:\n",
    "    phrase (str): The phrase to search for.\n",
    "    filename (str): The filename (file path) to search in or iterate through.\n",
    "    \"\"\"\n",
    "hits = []\n",
    "try:\n",
    "    # Open the file\n",
    "    with open(filename, 'r') as grep_file:  \n",
    "        # For statement to iterate though the file\n",
    "        for line_number, line in enumerate(grep_file, start=1): \n",
    "            # If statement to check if the query phrase is present in a line\n",
    "            if phrase in line: \n",
    "                # Print the matching line with its number\n",
    "                print(f\"Line {line_number}: {line.strip()}\")  \n",
    "# If file does not exist: specific exception handler code\n",
    "except FileNotFoundError:\n",
    "    print(f\"The file '{filename}' does not exist.\")\n",
    "# General exception handler code\n",
    "except Exception as e:\n",
    "    print(f\"An error occurred: {e}\")\n",
    "return hits\n",
    "\n",
    "# The file to search in\n",
    "filename = \"Downloads/conclusions.txt\"\n",
    "\n",
    "# Example"
   ]
  },
  {
   "cell_type": "code",
   "execution_count": 142,
   "id": "fbfe07d5-f972-4b75-9744-713ddcc93208",
   "metadata": {},
   "outputs": [
    {
     "name": "stdout",
     "output_type": "stream",
     "text": [
      "DNA: ATGCTGCATGCAAATCGCCTATCGTACTAGGCATGC\n",
      "RNA: AUGCUGCAUGCAAAUCGCCUAUCGUACUAGGCAUGC\n"
     ]
    }
   ],
   "source": [
    "# 4.\n",
    "def dna_to_rna(dna_seq):\n",
    "    \"\"\"\n",
    "    Converts DNA sequences to RNA\n",
    "\n",
    "    Function parameters:\n",
    "    dna_seq (str): DNA sequences\n",
    "\n",
    "    Returns:\n",
    "    RNA sequence\n",
    "    \"\"\"\n",
    "    # Create a variable to hold the resulting RNA sequence \n",
    "    rna_sequence = \"\"\n",
    "    # For Loop to iterate through the DNA sequence\n",
    "    for base in dna_seq:\n",
    "        # If statement to convert Thymine in DNA to Uracil\n",
    "        if base == 'T':\n",
    "            rna_sequence += 'U'\n",
    "        else:\n",
    "            rna_sequence += base\n",
    "    return rna_sequence\n",
    "\n",
    "# Example\n",
    "dna = \"ATGCTGCATGCAAATCGCCTATCGTACTAGGCATGC\"\n",
    "rna = dna_to_rna(dna)\n",
    "print(f\"DNA: {dna}\")\n",
    "print(f\"RNA: {rna}\")"
   ]
  },
  {
   "cell_type": "code",
   "execution_count": 5,
   "id": "726af3e2-a6c7-4530-a88f-dd2c889fb5c3",
   "metadata": {},
   "outputs": [
    {
     "name": "stdout",
     "output_type": "stream",
     "text": [
      "FASTA file saved as alignment.fasta\n",
      ">seq_1\n",
      "ATGCGCTGCATGCATTGCATGCATG\n",
      ">seq_2\n",
      "ATGCTCTCCATGTATTGCNTGGATG\n"
     ]
    }
   ],
   "source": [
    "# 5.\n",
    "\n",
    "# Paste the alignment from Canvas\n",
    "align ='''seq_1: ATGCGCTGCATGCATTGCATGCATG\n",
    "                 |||| || |||| ||||| || |||\n",
    "          seq_2: ATGCTCTCCATGTATTGCNTGGATG'''\n",
    "\n",
    "# Split the alignment into individual lines\n",
    "lines = align.split('\\n')\n",
    "\n",
    "# Parse the sequences\n",
    "seq1 = lines[0].split(':')[1].strip()\n",
    "seq2 = lines[2].split(':')[1].strip()\n",
    "\n",
    "# Parse the sequence names\n",
    "name1 = lines[0].split(':')[0].strip()\n",
    "name2 = lines[2].split(':')[0].strip()\n",
    "\n",
    "# Create the FASTA format using the required symbols and line spacing\n",
    "fasta_content = f\">{name1}\\n{seq1}\\n>{name2}\\n{seq2}\"\n",
    "\n",
    "# Save to a FASTA file\n",
    "output_file = \"alignment.fasta\"\n",
    "with open(output_file, \"w\") as fasta_align:\n",
    "    fasta_align.write(fasta_content)\n",
    "\n",
    "print(f\"FASTA file saved as {output_file}\")\n",
    "print(fasta_content)"
   ]
  },
  {
   "cell_type": "code",
   "execution_count": 144,
   "id": "ef9338e7-9e67-40aa-aa80-bc65681b1820",
   "metadata": {},
   "outputs": [],
   "source": [
    "## 5.\n",
    "align ='''seq_1: ATGCGCTGCATGCATTGCATGCATG\n",
    "                 |||| || |||| ||||| || |||\n",
    "          seq_2: ATGCTCTCCATGTATTGCNTGGATG'''\n",
    "\n",
    "# Extract sequences\n",
    "lines = align.strip().split('\\n')\n",
    "seq_1 = lines[0].split(': ')[1].replace(' ', '')\n",
    "seq_2 = lines[2].split(': ')[1].replace(' ', '')\n",
    "\n",
    "# Specific FASTA format\n",
    "fasta_format = f\">seq_1\\n{seq_1}\\n>seq_2\\n{seq_2}\\n\"\n",
    "\n",
    "# Write to a FASTA file\n",
    "with open('alignments.fasta', 'w') as fas_file:\n",
    "    fas_file.write(fasta_format)"
   ]
  },
  {
   "cell_type": "code",
   "execution_count": 166,
   "id": "c495ad64-fcbb-4c0a-bbdc-ef3487578281",
   "metadata": {},
   "outputs": [
    {
     "name": "stdout",
     "output_type": "stream",
     "text": [
      ">seq_1\n",
      "ATGCGCTGCATGCATTGCATGCATG\n",
      ">seq_2\n",
      "ATGCTCTCCATGTATTGCNTGGATG\n"
     ]
    }
   ],
   "source": [
    "## Specify the file name/path\n",
    "output_file = \"alignment.fasta\"\n",
    "\n",
    "# Read and print the FASTA file content\n",
    "with open(output_file, \"r\") as fasta_align:\n",
    "    fasta_content = fasta_align.read()\n",
    "    print(fasta_content)"
   ]
  },
  {
   "cell_type": "code",
   "execution_count": 148,
   "id": "2a5da676-fa9d-42d4-ba07-29ab75b483e4",
   "metadata": {},
   "outputs": [
    {
     "name": "stdout",
     "output_type": "stream",
     "text": [
      "Extracted section: TGCAACATTAAATCGATTTTACTCTTTACATTTTATTATACCATTTGTAAT\n"
     ]
    }
   ],
   "source": [
    "# 6.\n",
    "# sample sequence\n",
    "cyt_b = \"TTTTTGAGGAGCTACTGTAATTACAAATTTAATATCAGCAATTCCATTAATTGGTAATGAAATTGTAACTTGATTATGAGGAGGATTTAGAGTTAATAATGCAACATTAAATCGATTTTACTCTTTACATTTTATTATACCATTTGTAATTTTAATAATAATTTTAATCCATTTAATAACTTTACATTTAACAGGGTCTAACAATCCTTTAGGAACAAATAGAAATTTATATAAAATTCCTTTTCATTTTTATTTTACAGTAAAAGATATACAAGGGTTTTTATTTATAATTGTTAGATTATTATTATTATGTTGTTTTATTCCTTATATTTTAGGAGATCCAGAAAATTTTAATATAGCTAATCCAATAATTACTCCCATTCATATTCAGCCTGAATGATATTTCTTATTTGCATATGCAATTTTACGATCA\"\n",
    "\n",
    "# To extract index position 100 and 150 (inclusive)\n",
    "extracted_section = cyt_b[99:150]  \n",
    "print(\"Extracted section:\", extracted_section)"
   ]
  },
  {
   "cell_type": "code",
   "execution_count": 152,
   "id": "3538b9ac-e39b-424f-8ae4-da1138f38f03",
   "metadata": {},
   "outputs": [
    {
     "name": "stdout",
     "output_type": "stream",
     "text": [
      "Similarity score: 0.3\n"
     ]
    }
   ],
   "source": [
    "# 7. \n",
    "\n",
    "def calculate_similarity(string1, string2):\n",
    "    \"\"\"\n",
    "    Function to compare two strings and calculate the similarity score.\n",
    "\n",
    "    Parameters:\n",
    "    string1 (str): The first string to compare.\n",
    "    string2 (str): The second string to compare.\n",
    "\n",
    "    Returns:\n",
    "    float: The similarity score.\n",
    "    \"\"\"\n",
    "    # A crude comparison, which is what I did requires both sequences (str) to have\n",
    "    # the same length, else one'd need to factor in things like gaps, gap penalty, and gap extension\n",
    "    if len(string1) != len(string2):\n",
    "        raise ValueError(\"Strings must be of the same length.\")\n",
    "\n",
    "    # Count the number of exact positional matches\n",
    "    matches = sum(1 for a, b in zip(string1, string2) if a == b)\n",
    "\n",
    "    # Calculate the similarity score as the proportion of invariant sites\n",
    "    similarity_score = matches / len(string1) # the length of either string could be used, seeing as they're similar\n",
    "\n",
    "    return similarity_score\n",
    "\n",
    "# Example usage\n",
    "string_1 = 'AGGAGGCGGCGTGGTGCGTACGATGCGCAGGGTATTCACTAGAAAGCTAG'\n",
    "string_2 = 'CCTCTCTGGCTGACCTCCATAGCTCCTAAGGGGCGATGGAGGGCTCCAAG'\n",
    "\n",
    "similarity = calculate_similarity(string_1, string_2)\n",
    "print(f\"Similarity score: {similarity}\")"
   ]
  },
  {
   "cell_type": "code",
   "execution_count": 164,
   "id": "96cbcbc7-2e76-4fd4-aeba-635f31724910",
   "metadata": {},
   "outputs": [],
   "source": [
    "## 8. \n",
    "from Bio import SeqIO\n",
    "# Specify the input GenBank file and output FASTA file\n",
    "input_gb_file = \"input_file.gb\"  # Replace with your GenBank file path\n",
    "output_fasta_file = \"output_file.fasta\"  # Desired output FASTA file path\n",
    "\n",
    "# Read the GenBank file and write to FASTA format\n",
    "with open(output_fasta_file, \"w\") as fasta_file:\n",
    "    for record in SeqIO.parse(input_gb_file, \"genbank\"):\n",
    "        SeqIO.write(record, fasta_file, \"fasta\")\n"
   ]
  },
  {
   "cell_type": "code",
   "execution_count": 154,
   "id": "46764774-45d4-42bb-94a2-a941a1e556e7",
   "metadata": {},
   "outputs": [
    {
     "name": "stdout",
     "output_type": "stream",
     "text": [
      "[15, 28, 28, 28, 14, 11, 28, 13]\n"
     ]
    }
   ],
   "source": [
    "# 9. \n",
    "# create function\n",
    "def RE_sequence (sequence, enzyme):\n",
    "    \"\"\"\n",
    "    Cuts the given DNA sequence at restriction enzyme sites and returns a list of fragment lengths.\n",
    "    \n",
    "    Parameters \n",
    "    sequence (str): The DNA sequence to be cut.\n",
    "    enzyme (str): The restriction site (string) where the enzyme cuts.\n",
    "    \n",
    "    Returns:\n",
    "    List of fragment lengths.\n",
    "    \"\"\"\n",
    "    # Split/cut the dna sequence at the enzyme recognition site (TAT)\n",
    "    fragments = sequence.split(enzyme)  \n",
    "    # Estimate the fragment length as a list\n",
    "    fragment_lengths = [len(fragment) for fragment in fragments]  \n",
    "    \n",
    "    return fragment_lengths\n",
    "\n",
    "# Example\n",
    "seq_1 = \"ATGCGTCGTCTGACGTATCCCTGTGCAAGTCATCCGTCGTCTGACGTATCTCTGTGCATGTCATAAGTCGTCTGACGTATCGGTGTGCCCGTCATGCGTCGTCTGACGTATGCGTGTGCAAGTCATATTTCGTCTGACGTATCACTGTGCAGGTCAGGGGTCGTCTGACGTATTTTTGTGCACGTC\"\n",
    "enzyme = \"TAT\"\n",
    "\n",
    "fragment_lengths = RE_sequence (seq_1, enzyme)\n",
    "print(fragment_lengths)"
   ]
  },
  {
   "cell_type": "code",
   "execution_count": 106,
   "id": "8447c59d-227c-4e45-af40-7b4b69a38284",
   "metadata": {},
   "outputs": [
    {
     "name": "stdout",
     "output_type": "stream",
     "text": [
      "Fragment Lengths: [15, 28, 28, 28, 14, 11, 28, 13]\n",
      "Fragment Sequences: ['ATGCGTCGTCTGACG', 'CCCTGTGCAAGTCATCCGTCGTCTGACG', 'CTCTGTGCATGTCATAAGTCGTCTGACG', 'CGGTGTGCCCGTCATGCGTCGTCTGACG', 'GCGTGTGCAAGTCA', 'TTCGTCTGACG', 'CACTGTGCAGGTCAGGGGTCGTCTGACG', 'TTTTGTGCACGTC']\n"
     ]
    }
   ],
   "source": [
    "## to show the fragment sequences\n",
    "def digest_sequence(sequence, enzyme):\n",
    "    \"\"\"\n",
    "    Cuts the given DNA sequence at restriction enzyme sites and returns a list of fragment lengths and sequences.\n",
    "    \n",
    "    Parameter \n",
    "    sequence: The DNA sequence to be cut.\n",
    "    enzyme: The restriction site (string) where the enzyme cuts.\n",
    "    \n",
    "    Return: \n",
    "    Tuple containing a list of fragment lengths and a list of fragment sequences.\n",
    "    \"\"\"\n",
    "    fragments = sequence.split(enzyme)  # Split sequence at enzyme sites\n",
    "    fragment_lengths = [len(fragment) for fragment in fragments]  # Calculate fragment lengths\n",
    "    \n",
    "    return fragment_lengths, fragments\n",
    "\n",
    "# Example usage\n",
    "seq_1 = \"ATGCGTCGTCTGACGTATCCCTGTGCAAGTCATCCGTCGTCTGACGTATCTCTGTGCATGTCATAAGTCGTCTGACGTATCGGTGTGCCCGTCATGCGTCGTCTGACGTATGCGTGTGCAAGTCATATTTCGTCTGACGTATCACTGTGCAGGTCAGGGGTCGTCTGACGTATTTTTGTGCACGTC\"\n",
    "enzyme = \"TAT\"\n",
    "\n",
    "fragment_lengths, fragment_sequences = digest_sequence(seq_1, enzyme)\n",
    "print(\"Fragment Lengths:\", fragment_lengths)\n",
    "print(\"Fragment Sequences:\", fragment_sequences)"
   ]
  },
  {
   "cell_type": "code",
   "execution_count": 120,
   "id": "eaa93fbe-fc6e-4a53-b2fe-2559ef1a7901",
   "metadata": {},
   "outputs": [
    {
     "data": {
      "text/plain": [
       "{'Jim': '22',\n",
       " 'Jeff': '34',\n",
       " 'Geoff': '46',\n",
       " 'Grace': '58',\n",
       " 'George': '70',\n",
       " 'Julie': '19',\n",
       " 'Justine': '35',\n",
       " 'Jemima': '64'}"
      ]
     },
     "execution_count": 120,
     "metadata": {},
     "output_type": "execute_result"
    }
   ],
   "source": [
    "# 10.\n",
    "# List variables containing the names and the correspoding ages\n",
    "names_list = ['Jim', 'Jeff', 'Geoff', 'Grace', 'George', 'Julie', 'Justine', 'Jemima']\n",
    "age_list = ['22', '34', '46', '58', '70', '19', '35', '64']\n",
    "\n",
    "# Create a function to combine both names and ages in both Lists\n",
    "def combine_lists(list1, list2):\n",
    "    \"\"\"\n",
    "    A function to combine the name and corresponding age of each individual from 2 lists\n",
    "\n",
    "    Parameters:\n",
    "    list1: a list containing the names\n",
    "    list2: a list containing the ages\n",
    "\n",
    "    Returns:\n",
    "    A dictionary containing the name as the key and the age as the value\n",
    "    \"\"\"\n",
    "    # If statement to ensure that both lists are of the same length or size\n",
    "    if len(list1) != len(list2):\n",
    "        raise ValueError(\"Lists must have the same size\") # error message if the sizes differ\n",
    "    # Else statement to iterate through the lists if they're of similar sizes\n",
    "    else:\n",
    "        # create an empty dictionary to store the output\n",
    "        comb_dict = {}\n",
    "        # For loop to iterate through list1 index positions starting from the position zero or the first index \n",
    "        # through the entire length of list1\n",
    "        for x in range(0, len(list1), 1):\n",
    "            # list1 is defined as the Key, while list2 is defined as the value\n",
    "            comb_dict[list1[x]] = (list2[x])\n",
    "        # returns the dictionary\n",
    "    return comb_dict\n",
    "\n",
    "# the function is called using the name list and age list \n",
    "combine_lists(names_list, age_list)"
   ]
  }
 ],
 "metadata": {
  "kernelspec": {
   "display_name": "Python [conda env:base] *",
   "language": "python",
   "name": "conda-base-py"
  },
  "language_info": {
   "codemirror_mode": {
    "name": "ipython",
    "version": 3
   },
   "file_extension": ".py",
   "mimetype": "text/x-python",
   "name": "python",
   "nbconvert_exporter": "python",
   "pygments_lexer": "ipython3",
   "version": "3.12.7"
  }
 },
 "nbformat": 4,
 "nbformat_minor": 5
}
